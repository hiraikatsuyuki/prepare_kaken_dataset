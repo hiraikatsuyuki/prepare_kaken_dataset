{
 "cells": [
  {
   "cell_type": "markdown",
   "metadata": {},
   "source": [
    "# 研究課題の主要データをDBに保存するプログラム"
   ]
  },
  {
   "cell_type": "markdown",
   "metadata": {},
   "source": [
    "## プログラムの概要"
   ]
  },
  {
   "cell_type": "markdown",
   "metadata": {},
   "source": [
    "- 前提：研究課題のXMLファイルが./xmlフォルダに保存されていること\n",
    "- 内定時点のデータを保存する\n",
    "- 原則としてデータはsummary要素から取得する。研究機関データのみgrantlist要素から取得する。\n",
    "研究者情報は、grantAward/summary/memberとgrantAward/memberList/memberの2箇所にある。\n",
    "前者は同じ人は複数出てこなくてまとまっているが、所属機関等のコードがない。\n",
    "後者は所属機関コードがあるが、毎年度の実績報告書があるので同じ人が複数回出てくる。\n",
    "差し当たって前者からデータを取得することにする。そのうち余裕が出たら、後者のデータと突合したい。"
   ]
  },
  {
   "cell_type": "markdown",
   "metadata": {},
   "source": [
    "### 流れ"
   ]
  },
  {
   "cell_type": "markdown",
   "metadata": {},
   "source": [
    "1. grantaward : 研究課題メインになる部分。課題番号、研究種目、開始年度、終了年度、直接経費総額など。\n",
    "\n",
    "\n",
    "- 部品1：研究課題データのうち、課題番号や研究種目など、変更にならない項目で、課題番号に対して一対一になる項目\n",
    "- 部品2：採択年度の研究機関\n",
    "- 部品3：採択年度の研究代表者\n",
    "\n",
    "上記の3つの部品を課題番号をキーにして、結合して一つのテーブルを作り、DBに書き込む"
   ]
  },
  {
   "cell_type": "markdown",
   "metadata": {},
   "source": [
    "以下のテーブルは、grantawardに対して、基本的に一対多のリレーションになっている。DBに書き込む。\n",
    "\n",
    "2. grantaward_member : 研究代表者、研究分担者など\n",
    "3. grantaward_field : 研究分野。系分野分科細目表に基づくもの。2017年度まで。\n",
    "4. grantaward_review_section : 審査区分。審査区分表に基づくもの。2018年度以降。\n",
    "5. grantaward_annual : 年度ごとの直接経費金額\n",
    "6. grantaward_keyword : 研究課題のキーワード\n",
    "7. grantaward_paragraph : 研究概要等のテキストデータ\n",
    "8. grantaward_product: 研究成果物"
   ]
  },
  {
   "cell_type": "markdown",
   "metadata": {},
   "source": [
    "## 事前準備"
   ]
  },
  {
   "cell_type": "code",
   "execution_count": null,
   "metadata": {},
   "outputs": [],
   "source": [
    "import configparser\n",
    "import os\n",
    "import pickle\n",
    "import re\n",
    "import shutil\n",
    "from glob import glob\n",
    "\n",
    "import numpy as np\n",
    "import pandas as pd\n",
    "from joblib import Parallel, delayed\n",
    "from lxml import etree\n",
    "from sqlalchemy import create_engine\n",
    "from sqlalchemy.types import Date, Integer, String, BigInteger\n",
    "from tqdm import tqdm_notebook as tqdm"
   ]
  },
  {
   "cell_type": "code",
   "execution_count": null,
   "metadata": {},
   "outputs": [],
   "source": [
    "# DB設定\n",
    "config = configparser.ConfigParser()\n",
    "config.read(\"../../settings/config.ini\")\n",
    "username = config[\"mariadb\"][\"username\"]\n",
    "password = config[\"mariadb\"][\"password\"]\n",
    "url = (\n",
    "    \"mysql+pymysql://\"\n",
    "    + username\n",
    "    + \":\"\n",
    "    + password\n",
    "    + \"@localhost:3306/\"\n",
    "    + \"kaken\"\n",
    "    + \"?charset=UTF8MB4\"\n",
    ")\n",
    "engine = create_engine(url, echo=True)"
   ]
  },
  {
   "cell_type": "markdown",
   "metadata": {},
   "source": [
    "データセットを作成する年度を指定する"
   ]
  },
  {
   "cell_type": "code",
   "execution_count": null,
   "metadata": {},
   "outputs": [],
   "source": [
    "startyear = 1964\n",
    "endyear = 2020"
   ]
  },
  {
   "cell_type": "markdown",
   "metadata": {},
   "source": [
    "## XMLファイルからデータ抽出"
   ]
  },
  {
   "cell_type": "markdown",
   "metadata": {},
   "source": [
    "関数を定義する"
   ]
  },
  {
   "cell_type": "code",
   "execution_count": null,
   "metadata": {},
   "outputs": [],
   "source": [
    "# 研究課題の主な項目\n",
    "def kadai(xmlfile):\n",
    "    tree = etree.parse(xmlfile)\n",
    "    nsmap = {\"xml\": \"http://www.w3.org/XML/1998/namespace\"}\n",
    "    kadailist = []\n",
    "    for grantAward in tree.iterfind(\"grantAward\"):\n",
    "        projecttype = grantAward.get(\"projectType\")\n",
    "        awardnumber = grantAward.get(\"awardNumber\")\n",
    "        summary = grantAward.find(\"summary[@xml:lang='ja']\", nsmap)\n",
    "        projectstatus = summary.find(\"projectStatus\")\n",
    "        try:\n",
    "            projectstatus_fiscalyear = projectstatus.get(\"fiscalYear\")\n",
    "        except AttributeError:\n",
    "            projectstatus_fiscalyear = None\n",
    "        try:\n",
    "            projectstatus_statuscode = projectstatus.get(\"statusCode\")\n",
    "        except AttributeError:\n",
    "            projectstatus_statuscode = None\n",
    "        startfiscalyear = summary.find(\"periodOfAward\").get(\"searchStartFiscalYear\")\n",
    "        endfiscalyear = summary.find(\"periodOfAward\").get(\"searchEndFiscalYear\")\n",
    "        try:\n",
    "            category_niicode = summary.find(\"category\").get(\"niiCode\")\n",
    "        except AttributeError:\n",
    "            category_niicode = None\n",
    "        try:\n",
    "            category = summary.find(\"category\").text\n",
    "        except AttributeError:\n",
    "            category = None\n",
    "        try:\n",
    "            section_niicode = summary.find(\"section\").get(\"niiCode\")\n",
    "        except AttributeError:\n",
    "            section_niicode = None\n",
    "        try:\n",
    "            section = summary.find(\"section\").text\n",
    "        except AttributeError:\n",
    "            section = None\n",
    "        try:\n",
    "            title_ja = summary.find(\"title\").text\n",
    "        except AttributeError:\n",
    "            title_ja = None\n",
    "        try:\n",
    "            title_en = summary.find(\"title\").text\n",
    "        except AttributeError:\n",
    "            title_en = None\n",
    "        try:\n",
    "            directcost = summary.find(\"overallAwardAmount/directCost\").text\n",
    "        except AttributeError:\n",
    "            directcost = None\n",
    "        row = [\n",
    "            awardnumber,\n",
    "            projecttype,\n",
    "            projectstatus_fiscalyear,\n",
    "            projectstatus_statuscode,\n",
    "            startfiscalyear,\n",
    "            endfiscalyear,\n",
    "            category_niicode,\n",
    "            category,\n",
    "            section_niicode,\n",
    "            section,\n",
    "            title_ja,\n",
    "            title_en,\n",
    "            directcost,\n",
    "        ]\n",
    "        kadailist.append(row)\n",
    "    dumpfilename = (\n",
    "        \"dump_kadai/main/main_\"\n",
    "        + re.search(\"[0-9]{4}_[0-9]+-[0-9]+.xml\", xmlfile).group()\n",
    "        + \".dump\"\n",
    "    )\n",
    "    with open(dumpfilename, \"wb\") as f:\n",
    "        pickle.dump(kadailist, f)"
   ]
  },
  {
   "cell_type": "code",
   "execution_count": null,
   "metadata": {},
   "outputs": [],
   "source": [
    "# 研究代表者が所属する研究機関\n",
    "def institution(xmlfile):\n",
    "    tree = etree.parse(xmlfile)\n",
    "    nsmap = {\"xml\": \"http://www.w3.org/XML/1998/namespace\"}\n",
    "    institutionlist = []\n",
    "    for grantAward in tree.iterfind(\"grantAward\"):\n",
    "        awardnumber = grantAward.get(\"awardNumber\")\n",
    "        grantlist = grantAward.find(\"grantList\")\n",
    "        try:\n",
    "            for grant in grantlist.iterfind(\"grant[@xml:lang='ja']\", nsmap):\n",
    "                fiscalyear = grant.get(\"fiscalYear\")\n",
    "                grant_sequence = grant.get(\"sequence\")\n",
    "                for institution in grant.iterfind(\"institution\"):\n",
    "                    institution_sequence = institution.get(\"sequence\")\n",
    "                    institution_niicode = institution.get(\"niiCode\")\n",
    "                    institution_mextcode = institution.get(\"mextCode\")\n",
    "                    institution_jspscode = institution.get(\"jspsCode\")\n",
    "                    institution_name = institution.text\n",
    "                    row = [\n",
    "                        awardnumber,\n",
    "                        fiscalyear,\n",
    "                        grant_sequence,\n",
    "                        institution_sequence,\n",
    "                        institution_niicode,\n",
    "                        institution_mextcode,\n",
    "                        institution_jspscode,\n",
    "                        institution_name,\n",
    "                    ]\n",
    "                    institutionlist.append(row)\n",
    "        except AttributeError:\n",
    "            row = [awardnumber] + [None] * 7\n",
    "    dumpfilename = (\n",
    "        \"dump_kadai/institution/institution_\"\n",
    "        + re.search(\"[0-9]{4}_[0-9]+-[0-9]+.xml\", xmlfile).group()\n",
    "        + \".dump\"\n",
    "    )\n",
    "    with open(dumpfilename, \"wb\") as f:\n",
    "        pickle.dump(institutionlist, f)"
   ]
  },
  {
   "cell_type": "code",
   "execution_count": null,
   "metadata": {},
   "outputs": [],
   "source": [
    "# 研究代表者等の研究者番号等\n",
    "def member(xmlfile):\n",
    "    tree = etree.parse(xmlfile)\n",
    "    nsmap = {\"xml\": \"http://www.w3.org/XML/1998/namespace\"}\n",
    "    memberlist = []\n",
    "    for grantAward in tree.iterfind(\"grantAward\"):\n",
    "        awardnumber = grantAward.get(\"awardNumber\")\n",
    "        summary = grantAward.find(\"summary[@xml:lang='ja']\", nsmap)\n",
    "        for member in summary.iterfind(\"member\", nsmap):\n",
    "            sequence = member.get(\"sequence\")\n",
    "            try:\n",
    "                participate = member.get(\"participate\")\n",
    "            except AttributeError:\n",
    "                participate = None\n",
    "            eradcode = member.get(\"eradCode\")\n",
    "            role = member.get(\"role\")\n",
    "            try:\n",
    "                fullname = member.find(\"personalName/fullName\").text\n",
    "            except AttributeError:\n",
    "                fullname = None\n",
    "            try:\n",
    "                familyname = member.find(\"personalName/familyName\").text\n",
    "            except AttributeError:\n",
    "                familyname = None\n",
    "            try:\n",
    "                givenname = member.find(\"personalName/givenName\").text\n",
    "            except AttributeError:\n",
    "                givenname = None\n",
    "            try:\n",
    "                familyname_yomi = member.find(\"personalName/familyName\").get(\"yomi\")\n",
    "            except AttributeError:\n",
    "                familyname_yomi = None\n",
    "            try:\n",
    "                givenname_yomi = member.find(\"personalName/givenName\").get(\"yomi\")\n",
    "            except AttributeError:\n",
    "                givenname_yomi = None\n",
    "            row = [\n",
    "                awardnumber,\n",
    "                sequence,\n",
    "                participate,\n",
    "                eradcode,\n",
    "                role,\n",
    "                fullname,\n",
    "                familyname,\n",
    "                givenname,\n",
    "                familyname_yomi,\n",
    "                givenname_yomi,\n",
    "            ]\n",
    "            memberlist.append(row)\n",
    "    dumpfilename = (\n",
    "        \"dump_kadai/member/member_\"\n",
    "        + re.search(\"[0-9]{4}_[0-9]+-[0-9]+.xml\", xmlfile).group()\n",
    "        + \".dump\"\n",
    "    )\n",
    "    with open(dumpfilename, \"wb\") as f:\n",
    "        pickle.dump(memberlist, f)"
   ]
  },
  {
   "cell_type": "code",
   "execution_count": null,
   "metadata": {},
   "outputs": [],
   "source": [
    "# 系分野分科細目表に基づく研究分野データ\n",
    "def field(xmlfile):\n",
    "    tree = etree.parse(xmlfile)\n",
    "    nsmap = {\"xml\": \"http://www.w3.org/XML/1998/namespace\"}\n",
    "    fieldlist = []\n",
    "    for grantAward in tree.iterfind(\"grantAward\"):\n",
    "        awardnumber = grantAward.get(\"awardNumber\")\n",
    "        summary = grantAward.find(\"summary[@xml:lang='ja']\", nsmap)\n",
    "        for field in summary.iterfind(\"field\"):\n",
    "            field_sequence = field.get(\"sequence\")\n",
    "            field_path = field.get(\"path\")\n",
    "            field_niicode = field.get(\"niiCode\")\n",
    "            field_table = field.get(\"fieldTable\")\n",
    "            field_name = field.text\n",
    "            row = [\n",
    "                awardnumber,\n",
    "                field_sequence,\n",
    "                field_path,\n",
    "                field_niicode,\n",
    "                field_table,\n",
    "                field_name,\n",
    "            ]\n",
    "            fieldlist.append(row)\n",
    "    dumpfilename = (\n",
    "        \"dump_kadai/field/field_\"\n",
    "        + re.search(\"[0-9]{4}_[0-9]+-[0-9]+.xml\", xmlfile).group()\n",
    "        + \".dump\"\n",
    "    )\n",
    "    with open(dumpfilename, \"wb\") as f:\n",
    "        pickle.dump(fieldlist, f)"
   ]
  },
  {
   "cell_type": "code",
   "execution_count": null,
   "metadata": {},
   "outputs": [],
   "source": [
    "# 審査区分表に基づく研究分野\n",
    "def review_section(xmlfile):\n",
    "    tree = etree.parse(xmlfile)\n",
    "    nsmap = {\"xml\": \"http://www.w3.org/XML/1998/namespace\"}\n",
    "    review_secitonlist = []\n",
    "    for grantAward in tree.iterfind(\"grantAward\"):\n",
    "        awardnumber = grantAward.get(\"awardNumber\")\n",
    "        summary = grantAward.find(\"summary[@xml:lang='ja']\", nsmap)\n",
    "        for review_section in summary.iterfind(\"review_section\", nsmap):\n",
    "            review_section_sequence = review_section.get(\"sequence\")\n",
    "            review_section_niicode = review_section.get(\"niiCode\")\n",
    "            review_section_table_type = review_section.get(\"tableType\")\n",
    "            review_section_name = review_section.text\n",
    "            row = [\n",
    "                awardnumber,\n",
    "                review_section_sequence,\n",
    "                review_section_niicode,\n",
    "                review_section_table_type,\n",
    "                review_section_name,\n",
    "            ]\n",
    "            review_secitonlist.append(row)\n",
    "        dumpfilename = (\n",
    "            \"dump_kadai/review_section/review_section_\"\n",
    "            + re.search(\"[0-9]{4}_[0-9]+-[0-9]+.xml\", xmlfile).group()\n",
    "            + \".dump\"\n",
    "        )\n",
    "    with open(dumpfilename, \"wb\") as f:\n",
    "        pickle.dump(review_secitonlist, f)"
   ]
  },
  {
   "cell_type": "code",
   "execution_count": null,
   "metadata": {},
   "outputs": [],
   "source": [
    "# 年度ごとの直接経費金額\n",
    "def annual(xmlfile):\n",
    "    tree = etree.parse(xmlfile)\n",
    "    nsmap = {\"xml\": \"http://www.w3.org/XML/1998/namespace\"}\n",
    "    directcostlist = []\n",
    "    for grantAward in tree.iterfind(\"grantAward\"):\n",
    "        awardnumber = grantAward.get(\"awardNumber\")\n",
    "        for awardamountlist in grantAward.iterfind(\"awardAmountList\"):\n",
    "            sequence = awardamountlist.get(\"sequence\")\n",
    "            for awardamount in awardamountlist.iterfind(\"awardAmount\"):\n",
    "                try:\n",
    "                    fiscalyear = awardamount.get(\"fiscalYear\")\n",
    "                except AttributeError:\n",
    "                    fiscalyear = None\n",
    "                try:\n",
    "                    directcost = awardamount.find(\"directCost\").text\n",
    "                except AttributeError:\n",
    "                    directcost = None\n",
    "                row = [awardnumber, sequence, fiscalyear, directcost]\n",
    "                directcostlist.append(row)\n",
    "    dumpfilename = (\n",
    "        \"dump_kadai/annual/annual_\"\n",
    "        + re.search(\"[0-9]{4}_[0-9]+-[0-9]+.xml\", xmlfile).group()\n",
    "        + \".dump\"\n",
    "    )\n",
    "    with open(dumpfilename, \"wb\") as f:\n",
    "        pickle.dump(directcostlist, f)"
   ]
  },
  {
   "cell_type": "code",
   "execution_count": null,
   "metadata": {},
   "outputs": [],
   "source": [
    "# 研究課題のキーワード\n",
    "def keyword(xmlfile):\n",
    "    tree = etree.parse(xmlfile)\n",
    "    nsmap = {\"xml\": \"http://www.w3.org/XML/1998/namespace\"}\n",
    "    keywordlist = []\n",
    "    for grantAward in tree.iterfind(\"grantAward\"):\n",
    "        awardnumber = grantAward.get(\"awardNumber\")\n",
    "        try:\n",
    "            keywordList = grantAward.find(\"summary[@xml:lang='ja']/keywordList\", nsmap)\n",
    "            for keyword in keywordList.iterfind(\"keyword\"):\n",
    "                keyword_sequence = keyword.get(\"sequence\")\n",
    "                keyword_text = keyword.text\n",
    "                row = [awardnumber, keyword_sequence, keyword_text]\n",
    "                keywordlist.append(row)\n",
    "        except AttributeError:\n",
    "            row = [awardnumber] + [None] * 2\n",
    "    dumpfilename = (\n",
    "        \"dump_kadai/keyword/keyword_\"\n",
    "        + re.search(\"[0-9]{4}_[0-9]+-[0-9]+.xml\", xmlfile).group()\n",
    "        + \".dump\"\n",
    "    )\n",
    "    with open(dumpfilename, \"wb\") as f:\n",
    "        pickle.dump(keywordlist, f)"
   ]
  },
  {
   "cell_type": "code",
   "execution_count": null,
   "metadata": {},
   "outputs": [],
   "source": [
    "# 研究課題のテキストデータ\n",
    "def paragraph(xmlfile):\n",
    "    tree = etree.parse(xmlfile)\n",
    "    nsmap = {\"xml\": \"http://www.w3.org/XML/1998/namespace\"}\n",
    "    textlist = []\n",
    "    for grantAward in tree.iterfind(\"grantAward\"):\n",
    "        awardnumber = grantAward.get(\"awardNumber\")\n",
    "        summary = grantAward.find(\"summary[@xml:lang='ja']\", nsmap)\n",
    "        try:\n",
    "            for paragraphlist in summary.iterfind(\"paragraphList\"):\n",
    "                paragraphlist_sequence = paragraphlist.get(\"sequence\")\n",
    "                paragraphlist_parentid = paragraphlist.get(\"parentId\")\n",
    "                paragraphlist_type = paragraphlist.get(\"type\")\n",
    "                for paragraph in paragraphlist.iterfind(\"paragraph\"):\n",
    "                    paragraph_sequence = paragraph.get(\"sequence\")\n",
    "                    paragraph_text = paragraph.text\n",
    "                    row = [\n",
    "                        awardnumber,\n",
    "                        paragraphlist_sequence,\n",
    "                        paragraphlist_parentid,\n",
    "                        paragraphlist_type,\n",
    "                        paragraph_sequence,\n",
    "                        paragraph_text,\n",
    "                    ]\n",
    "                    textlist.append(row)\n",
    "        except AttributeError:\n",
    "            row = [awardnumber] + [None] * 5\n",
    "            textlist.append(row)\n",
    "    dumpfilename = (\n",
    "        \"dump_kadai/paragraph/paragraph_\"\n",
    "        + re.search(\"[0-9]{4}_[0-9]+-[0-9]+.xml\", xmlfile).group()\n",
    "        + \".dump\"\n",
    "    )\n",
    "    with open(dumpfilename, \"wb\") as f:\n",
    "        pickle.dump(textlist, f)"
   ]
  },
  {
   "cell_type": "code",
   "execution_count": null,
   "metadata": {},
   "outputs": [],
   "source": [
    "# 研究成果物\n",
    "def product(xmlfile):\n",
    "    tree = etree.parse(xmlfile)\n",
    "    nsmap = {\"xml\": \"http://www.w3.org/XML/1998/namespace\"}\n",
    "    productlist = []\n",
    "    for grantAward in tree.iterfind(\"grantAward\"):\n",
    "        awardnumber = grantAward.get(\"awardNumber\")\n",
    "        try:\n",
    "            productlistenriched = grantAward.find(\"productListEnriched\")\n",
    "            for product in productlistenriched.iterfind(\"product\"):\n",
    "                product_type = product.get(\"type\")\n",
    "                sequence = product.get(\"sequence\")\n",
    "                try:\n",
    "                    reviewed = product.get(\"reviewed\")\n",
    "                except AttributeError:\n",
    "                    reviewed = None\n",
    "                try:\n",
    "                    doi = product.find(\"doi\").text\n",
    "                except AttributeError:\n",
    "                    doi = None\n",
    "                try:\n",
    "                    author_ja = product.find(\"author[@xml:lang='ja']\", nsmap).text\n",
    "                except AttributeError:\n",
    "                    author_ja = None\n",
    "                try:\n",
    "                    author_en = product.find(\"author[@xml:lang='en']\", nsmap).text\n",
    "                except AttributeError:\n",
    "                    author_en = None\n",
    "                try:\n",
    "                    title_ja = product.find(\"title[@xml:lang='ja']\", nsmap).text\n",
    "                except AttributeError:\n",
    "                    title_ja = None\n",
    "                try:\n",
    "                    title_en = product.find(\"title[@xml:lang='en']\", nsmap).text\n",
    "                except AttributeError:\n",
    "                    title_en = None\n",
    "                try:\n",
    "                    journaltitle_ja = product.find(\n",
    "                        \"journalTitle[@xml:lang='ja']\", nsmap\n",
    "                    ).text\n",
    "                except AttributeError:\n",
    "                    journaltitle_ja = None\n",
    "                try:\n",
    "                    journaltitle_en = product.find(\n",
    "                        \"journalTitle[@xml:lang='en']\", nsmap\n",
    "                    ).text\n",
    "                except AttributeError:\n",
    "                    journaltitle_en = None\n",
    "                try:\n",
    "                    year = product.find(\"year\").text\n",
    "                except AttributeError:\n",
    "                    year = None\n",
    "                row = [\n",
    "                    awardnumber,\n",
    "                    product_type,\n",
    "                    sequence,\n",
    "                    reviewed,\n",
    "                    doi,\n",
    "                    author_ja,\n",
    "                    author_en,\n",
    "                    title_ja,\n",
    "                    title_en,\n",
    "                    journaltitle_ja,\n",
    "                    journaltitle_en,\n",
    "                    year,\n",
    "                ]\n",
    "                productlist.append(row)\n",
    "        except:\n",
    "            row = [awardnumber] + [None] * 11\n",
    "            productlist.append(row)\n",
    "\n",
    "    dumpfilename = (\n",
    "        \"dump_kadai/product/product_\"\n",
    "        + re.search(\"[0-9]{4}_[0-9]+-[0-9]+.xml\", xmlfile).group()\n",
    "        + \".dump\"\n",
    "    )\n",
    "    with open(dumpfilename, \"wb\") as f:\n",
    "        pickle.dump(productlist, f)"
   ]
  },
  {
   "cell_type": "markdown",
   "metadata": {},
   "source": [
    "XMLファイルから研究課題に関するデータを抽出して保存する"
   ]
  },
  {
   "cell_type": "code",
   "execution_count": null,
   "metadata": {},
   "outputs": [],
   "source": [
    "# dump_kadaiフォルダを空にしておく\n",
    "target_dir = \"dump_kadai\"\n",
    "if os.path.isdir(target_dir):\n",
    "    shutil.rmtree(target_dir)\n",
    "parts = [\n",
    "    \"main\",\n",
    "    \"institution\",\n",
    "    \"member\",\n",
    "    \"field\",\n",
    "    \"review_section\",\n",
    "    \"annual\",\n",
    "    \"keyword\",\n",
    "    \"paragraph\",\n",
    "    \"product\",\n",
    "]\n",
    "dirlist = [target_dir + \"/\" + p for p in parts]\n",
    "for d in dirlist:\n",
    "    os.makedirs(d)"
   ]
  },
  {
   "cell_type": "code",
   "execution_count": null,
   "metadata": {
    "scrolled": true
   },
   "outputs": [],
   "source": [
    "# XMLファイルのリストを作成する\n",
    "filenames = []\n",
    "for i in range(startyear, endyear + 1):\n",
    "    globdir = \"../kaken_parse_grants_masterxml/xml/\" + str(i) + \"*.xml\"\n",
    "    filenames.extend(glob(globdir))\n",
    "\n",
    "# XMLファイルをパースする関数を束ねる\n",
    "def parse(xmlfile):\n",
    "    kadai(xmlfile)\n",
    "    institution(xmlfile)\n",
    "    member(xmlfile)\n",
    "    field(xmlfile)\n",
    "    review_section(xmlfile)\n",
    "    annual(xmlfile)\n",
    "    keyword(xmlfile)\n",
    "    paragraph(xmlfile)\n",
    "    product(xmlfile)\n",
    "\n",
    "\n",
    "# Joblibで並列処理する\n",
    "Parallel(n_jobs=-1, verbose=1)([delayed(parse)(i) for i in filenames])"
   ]
  },
  {
   "cell_type": "markdown",
   "metadata": {},
   "source": [
    "## データ処理用の関数の準備"
   ]
  },
  {
   "cell_type": "code",
   "execution_count": null,
   "metadata": {},
   "outputs": [],
   "source": [
    "def merge_list(parts):\n",
    "    lists = []\n",
    "    for dump in tqdm(glob(\"dump_kadai/\" + parts + \"/\" + parts + \"*.dump\")):\n",
    "        with open(dump, mode=\"rb\") as f:\n",
    "            l = pickle.load(f)\n",
    "            lists += l\n",
    "    return lists"
   ]
  },
  {
   "cell_type": "markdown",
   "metadata": {},
   "source": [
    "## 研究課題基礎テーブル"
   ]
  },
  {
   "cell_type": "markdown",
   "metadata": {},
   "source": [
    "### 基礎テーブル部品1. 研究課題メインデータ"
   ]
  },
  {
   "cell_type": "code",
   "execution_count": null,
   "metadata": {
    "scrolled": true
   },
   "outputs": [],
   "source": [
    "# リストを結合する\n",
    "lists = merge_list(\"main\")\n",
    "# リストをデータフレームに変換する\n",
    "columns = [\n",
    "    \"awardnumber\",\n",
    "    \"projecttype\",\n",
    "    \"projectstatus_fiscalyear\",\n",
    "    \"projectstatus_statuscode\",\n",
    "    \"startfiscalyear\",\n",
    "    \"endfiscalyear\",\n",
    "    \"category_niicode\",\n",
    "    \"category\",\n",
    "    \"section_niicode\",\n",
    "    \"section\",\n",
    "    \"title_ja\",\n",
    "    \"title_en\",\n",
    "    \"directcost\",\n",
    "]\n",
    "base_main = pd.DataFrame(lists, columns=columns)\n",
    "# 課題番号に重複がないことを確認して、インデックスに設定する\n",
    "assert not base_main[\"awardnumber\"].duplicated().any(), \"awardnumber is duplicated.\"\n",
    "base_main = base_main.set_index(\"awardnumber\")\n",
    "# データを見ると、研究種目名と区分名は表記ゆれなどがあって使いにくいので、それぞれのniicodeだけ残して、削除しておく。\n",
    "base_main = base_main.drop(columns=[\"category\", \"section\"])\n",
    "base_main"
   ]
  },
  {
   "cell_type": "markdown",
   "metadata": {},
   "source": [
    "### 基礎テーブル部品2. 採択時の代表研究機関"
   ]
  },
  {
   "cell_type": "code",
   "execution_count": null,
   "metadata": {
    "scrolled": true
   },
   "outputs": [],
   "source": [
    "# リストを結合する\n",
    "lists = merge_list(\"institution\")\n",
    "# リストをデータフレームに変換する\n",
    "columns = [\n",
    "    \"awardnumber\",\n",
    "    \"fiscalyear\",\n",
    "    \"grant_sequence\",\n",
    "    \"institution_sequence\",\n",
    "    \"institution_niicode\",\n",
    "    \"institution_mextcode\",\n",
    "    \"institution_jspscode\",\n",
    "    \"institution_name\",\n",
    "]\n",
    "base_institution = pd.DataFrame(lists, columns=columns)\n",
    "# awardnumberごとにfiscalyearが最小の行（＝採択時点の研究機関の行）を取得する\n",
    "oldest = base_institution.groupby(\"awardnumber\")[\"fiscalyear\"].min().reset_index()\n",
    "# dfのうち、oldestと一致する行のみ残す\n",
    "base_institution = pd.merge(oldest, base_institution, on=[\"awardnumber\", \"fiscalyear\"])\n",
    "# 課題番号に重複がないことを確認して、インデックスに設定する\n",
    "assert not base_institution[\"awardnumber\"].duplicated().any(), \"awardnumber is duplicated.\"\n",
    "base_institution = base_institution.set_index(\"awardnumber\")\n",
    "# 使用しない列を削除する\n",
    "base_institution = base_institution.drop(columns=[\"fiscalyear\", \"grant_sequence\", \"institution_sequence\"])\n",
    "base_institution"
   ]
  },
  {
   "cell_type": "markdown",
   "metadata": {},
   "source": [
    "### 基礎テーブル部品3. 採択時の研究代表者"
   ]
  },
  {
   "cell_type": "code",
   "execution_count": null,
   "metadata": {
    "scrolled": true
   },
   "outputs": [],
   "source": [
    "# リストを結合する\n",
    "lists = merge_list(\"member\")\n",
    "# リストをデータフレームに変換する\n",
    "columns = [\n",
    "    \"awardnumber\",\n",
    "    \"sequence\",\n",
    "    \"participate\",\n",
    "    \"eradcode\",\n",
    "    \"role\",\n",
    "    \"fullname\",\n",
    "    \"familyname\",\n",
    "    \"givenname\",\n",
    "    \"familyname_yomi\",\n",
    "    \"givenname_yomi\",\n",
    "]\n",
    "base_member = pd.DataFrame(lists, columns=columns)\n",
    "# 代表者のみ抽出\n",
    "daihyou = [\n",
    "    \"principal_investigator\",\n",
    "    \"area_organizer\",\n",
    "    \"principal_investigator_support\",\n",
    "    \"research_fellow\",\n",
    "    \"foreign_research_fellow\",\n",
    "]\n",
    "base_member = base_member[base_member[\"role\"].isin(daihyou)]\n",
    "# データ型を指定する\n",
    "base_member = base_member.astype({\"sequence\": int})\n",
    "# awardnumberごとにsequenceが最大のレコードのみ抽出する。生のXMLを眺めてみると、sequenceが大きいほど古い年度のデータなので。\n",
    "seqmax = base_member.groupby('awardnumber')['sequence'].max().reset_index()\n",
    "base_member = pd.merge(seqmax, base_member, on=['awardnumber', 'sequence'])\n",
    "# 課題番号に重複がないことを確認して、インデックスに設定する\n",
    "assert not base_member[\"awardnumber\"].duplicated().any(), \"awardnumber is duplicated.\"\n",
    "base_member = base_member.set_index(\"awardnumber\")\n",
    "base_member"
   ]
  },
  {
   "cell_type": "markdown",
   "metadata": {},
   "source": [
    "### 基礎テーブルの3つの部品を結合してDBに書き込む"
   ]
  },
  {
   "cell_type": "code",
   "execution_count": null,
   "metadata": {
    "scrolled": true
   },
   "outputs": [],
   "source": [
    "# 3つのデータフレームを結合する\n",
    "base = base_main.join(base_institution)\n",
    "base = base.join(base_member)\n",
    "base"
   ]
  },
  {
   "cell_type": "code",
   "execution_count": null,
   "metadata": {
    "scrolled": true
   },
   "outputs": [],
   "source": [
    "# 外部キー制約を外す\n",
    "try:\n",
    "    with engine.connect() as con:\n",
    "        con.execute(\"ALTER TABLE grantaward_review_section DROP FOREIGN KEY fk_grantaward_review_section_grantaward;\")\n",
    "        con.execute(\"ALTER TABLE grantaward_field DROP FOREIGN KEY fk_grantaward_field_grantaward;\")\n",
    "        con.execute(\"ALTER TABLE grantaward_annual DROP FOREIGN KEY fk_grantaward_annual_grantaward;\")\n",
    "        con.execute(\"ALTER TABLE grantaward_member DROP FOREIGN KEY fk_grantaward_member_grantaward;\")\n",
    "        con.execute(\"ALTER TABLE grantaward_paragraph DROP FOREIGN KEY fk_grantaward_paragraph_grantaward;\")\n",
    "        con.execute(\"ALTER TABLE grantaward_keyword DROP FOREIGN KEY fk_grantaward_keyword_grantaward;\")\n",
    "        con.execute(\"ALTER TABLE grantaward_product DROP FOREIGN KEY fk_grantaward_product_grantaward;\")\n",
    "        con.execute(\"ALTER TABLE grantaward DROP PRIMARY KEY;\")\n",
    "        con.execute(\"ALTER TABLE grantaward_member DROP PRIMARY KEY;\")\n",
    "        con.execute(\"ALTER TABLE grantaward_field DROP PRIMARY KEY;\")\n",
    "        con.execute(\"ALTER TABLE grantaward_review_section DROP PRIMARY KEY;\")\n",
    "        con.execute(\"ALTER TABLE grantaward_annual DROP PRIMARY KEY;\")\n",
    "        con.execute(\"ALTER TABLE grantaward_keyword DROP PRIMARY KEY;\")\n",
    "        con.execute(\"ALTER TABLE grantaward_paragraph DROP PRIMARY KEY;\")\n",
    "        con.execute(\"ALTER TABLE grantaward_product DROP PRIMARY KEY;\")\n",
    "except:\n",
    "    pass"
   ]
  },
  {
   "cell_type": "code",
   "execution_count": null,
   "metadata": {
    "scrolled": true
   },
   "outputs": [],
   "source": [
    "# データベースに書き込む\n",
    "base.to_sql(\n",
    "    \"grantaward\",\n",
    "    engine,\n",
    "    if_exists=\"replace\",\n",
    "    dtype={\n",
    "        \"awardnumber\": String(255),\n",
    "        \"startfiscalyear\": Integer,\n",
    "        \"endfiscalyear\": Integer,\n",
    "        \"projectstatus_fiscalyear\": Integer,\n",
    "        \"category_niicode\": Integer,\n",
    "        \"section_niicode\": Integer,\n",
    "        \"institution_niicode\": String(7),\n",
    "        \"directcost\": BigInteger,\n",
    "        \"sequence\": Integer,\n",
    "        \"eradcode\": String(8),\n",
    "    },\n",
    ")"
   ]
  },
  {
   "cell_type": "code",
   "execution_count": null,
   "metadata": {},
   "outputs": [],
   "source": [
    "# 主キーと外部キー制約を設定する\n",
    "with engine.connect() as con:\n",
    "    con.execute(\"ALTER TABLE grantaward ADD PRIMARY KEY(awardnumber)\")\n",
    "    con.execute(\n",
    "        \"ALTER TABLE grantaward ADD CONSTRAINT category_niicode_1 FOREIGN KEY (category_niicode) REFERENCES categories(category_niicode);\"\n",
    "    )\n",
    "    con.execute(\n",
    "        \"ALTER TABLE grantaward ADD CONSTRAINT section_niicode_1 FOREIGN KEY (section_niicode) REFERENCES sections(section_niicode);\"\n",
    "    )\n",
    "    con.execute(\n",
    "        \"ALTER TABLE grantaward ADD CONSTRAINT institution_niicode_1 FOREIGN KEY (institution_niicode) REFERENCES institutions(institution_niicode);\"\n",
    "    )"
   ]
  },
  {
   "cell_type": "markdown",
   "metadata": {},
   "source": [
    "---"
   ]
  },
  {
   "cell_type": "markdown",
   "metadata": {},
   "source": [
    "## 研究者テーブルを作る"
   ]
  },
  {
   "cell_type": "code",
   "execution_count": null,
   "metadata": {
    "scrolled": true
   },
   "outputs": [],
   "source": [
    "# リストを結合する\n",
    "lists = merge_list(\"member\")\n",
    "# リストをデータフレームに変換する\n",
    "columns = [\n",
    "    \"awardnumber\",\n",
    "    \"sequence\",\n",
    "    \"participate\",\n",
    "    \"eradcode\",\n",
    "    \"role\",\n",
    "    \"fullname\",\n",
    "    \"familyname\",\n",
    "    \"givenname\",\n",
    "    \"familyname_yomi\",\n",
    "    \"givenname_yomi\",\n",
    "]\n",
    "member = pd.DataFrame(lists, columns=columns)\n",
    "# 研究者番号が数字のみで構成されていることを確認する\n",
    "assert member[\"eradcode\"].str.match('^[0-9]*$').all(), \"eradcode contains non-integer letter.\"\n",
    "member"
   ]
  },
  {
   "cell_type": "code",
   "execution_count": null,
   "metadata": {
    "scrolled": true
   },
   "outputs": [],
   "source": [
    "# データベースに書き込む\n",
    "member.to_sql(\n",
    "    \"grantaward_member\",\n",
    "    engine,\n",
    "    if_exists=\"replace\",\n",
    "    dtype={\"awardnumber\": String(255), \"sequence\": Integer, \"eradcode\": String(8)},\n",
    ")"
   ]
  },
  {
   "cell_type": "code",
   "execution_count": null,
   "metadata": {
    "scrolled": true
   },
   "outputs": [],
   "source": [
    "# 主キーと外部キー制約を設定する\n",
    "with engine.connect() as con:\n",
    "    con.execute(\"ALTER TABLE `grantaward_member` ADD PRIMARY KEY(`index`);\")\n",
    "    con.execute(\n",
    "        \"ALTER TABLE `grantaward_member` ADD CONSTRAINT fk_grantaward_member_grantaward FOREIGN KEY (`awardnumber`) REFERENCES `grantaward`(`awardnumber`);\"\n",
    "    )"
   ]
  },
  {
   "cell_type": "markdown",
   "metadata": {},
   "source": [
    "---"
   ]
  },
  {
   "cell_type": "markdown",
   "metadata": {},
   "source": [
    "## 研究分野テーブルを作る"
   ]
  },
  {
   "cell_type": "code",
   "execution_count": null,
   "metadata": {
    "scrolled": true
   },
   "outputs": [],
   "source": [
    "# リストを結合する\n",
    "lists = merge_list(\"field\")\n",
    "# リストをデータフレームに変換する\n",
    "columns = [\n",
    "    \"awardnumber\",\n",
    "    \"field_sequence\",\n",
    "    \"field_path\",\n",
    "    \"field_niicode\",\n",
    "    \"field_table\",\n",
    "    \"field_name\",\n",
    "]\n",
    "field = pd.DataFrame(lists,columns=columns)\n",
    "field"
   ]
  },
  {
   "cell_type": "code",
   "execution_count": null,
   "metadata": {
    "scrolled": true
   },
   "outputs": [],
   "source": [
    "# データベースに書き込む\n",
    "field.to_sql(\n",
    "    \"grantaward_field\",\n",
    "    engine,\n",
    "    if_exists=\"replace\",\n",
    "    dtype={\n",
    "        \"awardnumber\": String(255),\n",
    "        \"field_niicode\": Integer,\n",
    "        \"field_path\": String(255),\n",
    "    },\n",
    ")"
   ]
  },
  {
   "cell_type": "code",
   "execution_count": null,
   "metadata": {
    "scrolled": true
   },
   "outputs": [],
   "source": [
    "# 主キーと外部キー制約を設定する\n",
    "with engine.connect() as con:\n",
    "#     con.execute(\"ALTER TABLE `grantaward_field` ADD PRIMARY KEY(`index`);\")\n",
    "    con.execute(\n",
    "        \"ALTER TABLE `grantaward_field` ADD CONSTRAINT fk_grantaward_field_grantaward FOREIGN KEY (`awardnumber`) REFERENCES `grantaward`(`awardnumber`);\"\n",
    "    )\n",
    "    con.execute(\n",
    "        \"ALTER TABLE `grantaward_field` ADD CONSTRAINT fk_grantaward_field_field_niicode FOREIGN KEY (`field_niicode`) REFERENCES `fields`(`field_niicode`);\"\n",
    "    )\n",
    "    con.execute(\n",
    "        \"ALTER TABLE grantaward_field ADD CONSTRAINT fk_grantaward_field_field_path FOREIGN KEY (field_path) REFERENCES fields (field_path);\"\n",
    "    )"
   ]
  },
  {
   "cell_type": "markdown",
   "metadata": {},
   "source": [
    "---"
   ]
  },
  {
   "cell_type": "markdown",
   "metadata": {},
   "source": [
    "## 審査区分テーブルを作る "
   ]
  },
  {
   "cell_type": "code",
   "execution_count": null,
   "metadata": {
    "scrolled": true
   },
   "outputs": [],
   "source": [
    "# リストを結合する\n",
    "lists = merge_list(\"review_section\")\n",
    "# リストをデータフレームに変換する\n",
    "columns = [\n",
    "    \"awardnumber\",\n",
    "    \"review_section_sequence\",\n",
    "    \"review_section_niicode\",\n",
    "    \"review_section_table_type\",\n",
    "    \"review_section_name\",\n",
    "]\n",
    "review_section = pd.DataFrame(lists, columns=columns)\n",
    "review_section"
   ]
  },
  {
   "cell_type": "code",
   "execution_count": null,
   "metadata": {
    "scrolled": true
   },
   "outputs": [],
   "source": [
    "# データベースに書き込む\n",
    "review_section.to_sql(\n",
    "    \"grantaward_review_section\",\n",
    "    engine,\n",
    "    if_exists=\"replace\",\n",
    "    dtype={\"awardnumber\": String(255), \"review_section_niicode\": Integer},\n",
    ")"
   ]
  },
  {
   "cell_type": "code",
   "execution_count": null,
   "metadata": {
    "scrolled": true
   },
   "outputs": [],
   "source": [
    "# 主キーと外部キー制約を設定する\n",
    "try:\n",
    "    with engine.connect() as con:\n",
    "        con.execute(\"ALTER TABLE `grantaward_review_section` ADD PRIMARY KEY(`index`);\")\n",
    "        con.execute(\n",
    "            \"ALTER TABLE `grantaward_review_section` ADD CONSTRAINT fk_grantaward_review_section_grantaward FOREIGN KEY (`awardnumber`) REFERENCES `grantaward`(`awardnumber`);\"\n",
    "        )\n",
    "        con.execute(\n",
    "            \"ALTER TABLE `grantaward_review_section` ADD CONSTRAINT fk_grantaward_review_section_review_section_niicode FOREIGN KEY (`review_section_niicode`) REFERENCES `review_sections`(`review_section_niicode`);\"\n",
    "        )\n",
    "except:\n",
    "    pass"
   ]
  },
  {
   "cell_type": "markdown",
   "metadata": {},
   "source": [
    "---"
   ]
  },
  {
   "cell_type": "markdown",
   "metadata": {},
   "source": [
    "## 年度ごとの直接経費金額テーブルを作る"
   ]
  },
  {
   "cell_type": "code",
   "execution_count": null,
   "metadata": {
    "scrolled": true
   },
   "outputs": [],
   "source": [
    "# リストを結合する\n",
    "lists = merge_list(\"annual\")\n",
    "# リストをデータフレームに変換する\n",
    "columns = [\"awardnumber\", \"sequence\", \"fiscalyear\", \"directcost\"]\n",
    "annual = pd.DataFrame(lists, columns=columns)\n",
    "annual"
   ]
  },
  {
   "cell_type": "code",
   "execution_count": null,
   "metadata": {
    "scrolled": true
   },
   "outputs": [],
   "source": [
    "# データベースに書き込む\n",
    "annual.to_sql(\n",
    "    \"grantaward_annual\",\n",
    "    engine,\n",
    "    if_exists=\"replace\",\n",
    "    dtype={\n",
    "        \"awardnumber\": String(255),\n",
    "        \"sequence\": Integer,\n",
    "        \"fiscalyaer\": Integer,\n",
    "        \"directcost\": BigInteger,\n",
    "    },\n",
    ")\n",
    "\n",
    "# 主キーと外部キー制約を設定する\n",
    "with engine.connect() as con:\n",
    "    con.execute(\"ALTER TABLE `grantaward_annual` ADD PRIMARY KEY(`index`);\")\n",
    "    con.execute(\n",
    "        \"ALTER TABLE `grantaward_annual` ADD CONSTRAINT fk_grantaward_annual_grantaward FOREIGN KEY (`awardnumber`) REFERENCES `grantaward`(`awardnumber`);\"\n",
    "    )"
   ]
  },
  {
   "cell_type": "markdown",
   "metadata": {},
   "source": [
    "---"
   ]
  },
  {
   "cell_type": "markdown",
   "metadata": {},
   "source": [
    "## キーワードテーブルを作る"
   ]
  },
  {
   "cell_type": "code",
   "execution_count": null,
   "metadata": {
    "scrolled": true
   },
   "outputs": [],
   "source": [
    "# リストを結合する\n",
    "lists = merge_list(\"keyword\")\n",
    "# リストをデータフレームに変換する\n",
    "columns = [\"awardnumber\", \"keyword_sequence\", \"keyword_text\"]\n",
    "keyword = pd.DataFrame(lists, columns=columns)\n",
    "keyword"
   ]
  },
  {
   "cell_type": "code",
   "execution_count": null,
   "metadata": {
    "scrolled": true
   },
   "outputs": [],
   "source": [
    "# データベースに書き込む\n",
    "keyword.to_sql(\n",
    "    \"grantaward_keyword\",\n",
    "    engine,\n",
    "    if_exists=\"replace\",\n",
    "    dtype={\"awardnumber\": String(255)},\n",
    ")\n",
    "\n",
    "# 主キーと外部キー制約を設定する\n",
    "with engine.connect() as con:\n",
    "    con.execute(\"ALTER TABLE `grantaward_keyword` ADD PRIMARY KEY(`index`);\")\n",
    "    con.execute(\n",
    "        \"ALTER TABLE `grantaward_keyword` ADD CONSTRAINT fk_grantaward_keyword_grantaward FOREIGN KEY (`awardnumber`) REFERENCES `grantaward`(`awardnumber`);\"\n",
    "    )"
   ]
  },
  {
   "cell_type": "markdown",
   "metadata": {},
   "source": [
    "---"
   ]
  },
  {
   "cell_type": "markdown",
   "metadata": {},
   "source": [
    "## 研究概要等のテキストのテーブルを作る"
   ]
  },
  {
   "cell_type": "code",
   "execution_count": null,
   "metadata": {
    "scrolled": true
   },
   "outputs": [],
   "source": [
    "# リストを結合する\n",
    "lists = merge_list(\"paragraph\")\n",
    "# リストをデータフレームに変換する\n",
    "columns = [\n",
    "    \"awardnumber\",\n",
    "    \"paragraphlist_sequence\",\n",
    "    \"paragraphlist_parentid\",\n",
    "    \"paragraphlist_type\",\n",
    "    \"paragraph_sequence\",\n",
    "    \"paragraph_text\",\n",
    "]\n",
    "paragraph = pd.DataFrame(lists, columns=columns)\n",
    "paragraph"
   ]
  },
  {
   "cell_type": "code",
   "execution_count": null,
   "metadata": {
    "scrolled": true
   },
   "outputs": [],
   "source": [
    "# データベースに書き込む\n",
    "paragraph.to_sql(\n",
    "    \"grantaward_paragraph\",\n",
    "    engine,\n",
    "    if_exists=\"replace\",\n",
    "    dtype={\"awardnumber\": String(255)},\n",
    ")\n",
    "\n",
    "# 主キーと外部キー制約を設定する\n",
    "with engine.connect() as con:\n",
    "    con.execute(\"ALTER TABLE `grantaward_paragraph` ADD PRIMARY KEY(`index`);\")\n",
    "    con.execute(\n",
    "        \"ALTER TABLE `grantaward_paragraph` ADD CONSTRAINT fk_grantaward_paragraph_grantaward FOREIGN KEY (`awardnumber`) REFERENCES `grantaward`(`awardnumber`);\"\n",
    "    )"
   ]
  },
  {
   "cell_type": "markdown",
   "metadata": {},
   "source": [
    "## 成果物テーブルを作る"
   ]
  },
  {
   "cell_type": "code",
   "execution_count": null,
   "metadata": {
    "scrolled": true
   },
   "outputs": [],
   "source": [
    "# リストを結合する\n",
    "lists = merge_list(\"product\")\n",
    "# リストをデータフレームに変換する\n",
    "columns = [\n",
    "    \"awardnumber\",\n",
    "    \"product_type\",\n",
    "    \"sequence\",\n",
    "    \"reviewed\",\n",
    "    \"doi\",\n",
    "    \"author_ja\",\n",
    "    \"author_en\",\n",
    "    \"title_ja\",\n",
    "    \"title_en\",\n",
    "    \"journaltitle_ja\",\n",
    "    \"journaltitle_en\",\n",
    "    \"year\",\n",
    "]\n",
    "product = pd.DataFrame(lists, columns=columns)\n",
    "product"
   ]
  },
  {
   "cell_type": "code",
   "execution_count": null,
   "metadata": {
    "scrolled": true
   },
   "outputs": [],
   "source": [
    "# データベースに書き込む\n",
    "product.to_sql(\n",
    "    \"grantaward_product\",\n",
    "    engine,\n",
    "    if_exists=\"replace\",\n",
    "    dtype={\"awardnumber\": String(255), \"year\": Integer},\n",
    ")\n",
    "\n",
    "# 主キーと外部キー制約を設定する\n",
    "with engine.connect() as con:\n",
    "    con.execute(\"ALTER TABLE `grantaward_product` ADD PRIMARY KEY(`index`);\")\n",
    "    con.execute(\n",
    "        \"ALTER TABLE `grantaward_product` ADD CONSTRAINT fk_grantaward_product_grantaward FOREIGN KEY (`awardnumber`) REFERENCES `grantaward`(`awardnumber`);\"\n",
    "    )"
   ]
  },
  {
   "cell_type": "markdown",
   "metadata": {},
   "source": [
    "おしまい"
   ]
  }
 ],
 "metadata": {
  "kernelspec": {
   "display_name": "Python 3",
   "language": "python",
   "name": "python3"
  },
  "language_info": {
   "codemirror_mode": {
    "name": "ipython",
    "version": 3
   },
   "file_extension": ".py",
   "mimetype": "text/x-python",
   "name": "python",
   "nbconvert_exporter": "python",
   "pygments_lexer": "ipython3",
   "version": "3.8.3"
  }
 },
 "nbformat": 4,
 "nbformat_minor": 4
}
