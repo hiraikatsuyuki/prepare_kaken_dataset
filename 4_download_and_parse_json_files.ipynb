{
 "cells": [
  {
   "cell_type": "markdown",
   "metadata": {},
   "source": [
    "# KAKENから研究者JSONファイルをダウンロードしてデータベースのに保存するプログラム"
   ]
  },
  {
   "cell_type": "markdown",
   "metadata": {},
   "source": [
    "## 事前準備"
   ]
  },
  {
   "cell_type": "markdown",
   "metadata": {},
   "source": [
    "- CiNiiウェブAPIの利用登録( https://support.nii.ac.jp/ja/cinii/api/developer )を済ませておく。登録が完了したら、アプリケーションID(appid)がメールで通知される。configparserで別途appidを設定ファイルに書き込んでおく。\n",
    "- kaken_datasetを作っておく "
   ]
  },
  {
   "cell_type": "code",
   "execution_count": null,
   "metadata": {},
   "outputs": [],
   "source": [
    "import configparser\n",
    "import json\n",
    "import os\n",
    "import pickle\n",
    "import re\n",
    "import shutil\n",
    "import time\n",
    "from glob import glob\n",
    "\n",
    "import pandas as pd\n",
    "import requests\n",
    "from bs4 import BeautifulSoup\n",
    "from joblib import Parallel, delayed\n",
    "from sqlalchemy import create_engine\n",
    "from sqlalchemy.types import Date, Integer, String\n",
    "from tqdm.notebook import tqdm_notebook"
   ]
  },
  {
   "cell_type": "code",
   "execution_count": null,
   "metadata": {},
   "outputs": [],
   "source": [
    "config = configparser.ConfigParser()\n",
    "config.read(\"../../settings/config.ini\")\n",
    "\n",
    "# URL設定\n",
    "appid = config[\"CiNii_web_api\"][\"appid\"]\n",
    "\n",
    "# DB設定\n",
    "config = configparser.ConfigParser()\n",
    "config.read(\"../../settings/config.ini\")\n",
    "username = config[\"mariadb\"][\"username\"]\n",
    "password = config[\"mariadb\"][\"password\"]\n",
    "url = (\n",
    "    \"mysql+pymysql://\"\n",
    "    + username\n",
    "    + \":\"\n",
    "    + password\n",
    "    + \"@localhost:3306/\"\n",
    "    + \"kaken\"\n",
    "    + \"?charset=UTF8MB4\"\n",
    ")\n",
    "engine = create_engine(url, echo=True)"
   ]
  },
  {
   "cell_type": "markdown",
   "metadata": {},
   "source": [
    "ファイル保存用のフォルダを作成する"
   ]
  },
  {
   "cell_type": "code",
   "execution_count": null,
   "metadata": {},
   "outputs": [],
   "source": [
    "os.makedirs(\"json\", exist_ok=True)"
   ]
  },
  {
   "cell_type": "markdown",
   "metadata": {},
   "source": [
    "## kaken_datasetから、研究者番号リストを取得する"
   ]
  },
  {
   "cell_type": "code",
   "execution_count": null,
   "metadata": {
    "scrolled": true
   },
   "outputs": [],
   "source": [
    "df = pd.read_sql_query(\"SELECT DISTINCT(eradcode) FROM grantaward_member\", engine)\n",
    "df = df[df[\"eradcode\"].str.len() == 8]\n",
    "s = df[\"eradcode\"].str[0:4]\n",
    "s"
   ]
  },
  {
   "cell_type": "code",
   "execution_count": null,
   "metadata": {},
   "outputs": [],
   "source": [
    "# 上位4桁ごとに含まれる研究者番号の件数を集計して、1000件以上のものがないことを確認する\n",
    "assert (s.value_counts() <= 1000).all(), \"contains over 1000 eradcodes\"\n",
    "# \n",
    "e4 = s.sort_values().to_list()\n",
    "e4 = list(set(e4))\n",
    "e4.sort()\n",
    "e4"
   ]
  },
  {
   "cell_type": "markdown",
   "metadata": {},
   "source": [
    "---"
   ]
  },
  {
   "cell_type": "markdown",
   "metadata": {},
   "source": [
    "## 研究者番号の上位4桁ごとにダウンロードする"
   ]
  },
  {
   "cell_type": "code",
   "execution_count": null,
   "metadata": {},
   "outputs": [],
   "source": [
    "for i in tqdm_notebook(e4):\n",
    "    ROOT_URL = \"https://nrid.nii.ac.jp/opensearch/?appid=\" + appid\n",
    "    url = ROOT_URL + \"&format=json&rw=500&qm=\" + i + \"*\"\n",
    "    r = requests.get(url)\n",
    "    j = r.text\n",
    "    cnt = json.loads(j)[\"totalResults\"]\n",
    "    if cnt > 500:\n",
    "        filename = \"json/\" + i + \"_1-500.json\"\n",
    "    else:\n",
    "        filename = \"json/\" + i + \"_1-\" + str(cnt) + \".json\"\n",
    "    with open(filename, mode=\"w\", encoding=\"utf-8\") as f:\n",
    "        f.write(j)\n",
    "    if cnt > 500:\n",
    "        url += \"&st=501\"\n",
    "        r = requests.get(url)\n",
    "        j = r.text\n",
    "        filename = \"json/\" + i + \"_501-\" + str(cnt) + \".json\"\n",
    "        with open(filename, mode=\"w\", encoding=\"utf-8\") as f:\n",
    "            f.write(j)"
   ]
  },
  {
   "cell_type": "markdown",
   "metadata": {},
   "source": [
    "---"
   ]
  },
  {
   "cell_type": "markdown",
   "metadata": {},
   "source": [
    "JSONをパースする関数その1：grantaward_memberから作ったリストに基づいてダウンロードしたJSONファイルをパースする"
   ]
  },
  {
   "cell_type": "code",
   "execution_count": null,
   "metadata": {},
   "outputs": [],
   "source": [
    "def get_researcher(jsonfilepath):\n",
    "    # ファイルを開く\n",
    "    with open(jsonfilepath, \"r\", encoding=\"utf-8\") as f:\n",
    "        jsondata = json.load(f)\n",
    "    # ファイル内の件数を取得する\n",
    "    totalresults = jsondata[\"totalResults\"]\n",
    "    startindex = jsondata[\"startIndex\"]\n",
    "    itemsperpage = jsondata[\"itemsPerPage\"]\n",
    "    if startindex + itemsperpage < totalresults:\n",
    "        end = itemsperpage\n",
    "    else:\n",
    "        end = totalresults - startindex\n",
    "    # JSONデータをパースする\n",
    "    researcher_list = []\n",
    "    researchers = jsondata[\"researchers\"]\n",
    "    for i in range(end):\n",
    "        eradcode = researchers[i][\"id:person:erad\"][0]\n",
    "        try:\n",
    "            fullname = researchers[i][\"name\"][\"humanReadableValue\"]\n",
    "        except KeyError:\n",
    "            fullname = None\n",
    "        row = [eradcode, fullname]\n",
    "        researcher_list.append(row)\n",
    "\n",
    "    dumpfilename = (\n",
    "        \"dump_researcher/\"\n",
    "        + re.search(\"[0-9]{4}_[0-9]+-[0-9]+.json\", jsonfilepath).group()\n",
    "        + \".dump\"\n",
    "    )\n",
    "    with open(dumpfilename, \"wb\") as f:\n",
    "        pickle.dump(researcher_list, f)"
   ]
  },
  {
   "cell_type": "code",
   "execution_count": null,
   "metadata": {},
   "outputs": [],
   "source": [
    "# dump_researcherフォルダを空にしておく\n",
    "target_dir = \"dump_researcher\"\n",
    "if os.path.isdir(target_dir):\n",
    "    shutil.rmtree(target_dir)\n",
    "os.makedirs(target_dir)"
   ]
  },
  {
   "cell_type": "code",
   "execution_count": null,
   "metadata": {},
   "outputs": [],
   "source": [
    "# JSONファイルのリストを作成する\n",
    "jsonlist = [f for f in glob(\"json/*.json\") if not f.endswith(\"_1-0.json\")]\n",
    "# Joblibで並列処理する\n",
    "Parallel(n_jobs=-1, verbose=1)([delayed(get_researcher)(i) for i in jsonlist])"
   ]
  },
  {
   "cell_type": "code",
   "execution_count": null,
   "metadata": {
    "scrolled": true
   },
   "outputs": [],
   "source": [
    "# リストを結合する\n",
    "researcher_list = []\n",
    "for dump in tqdm_notebook(glob(\"dump_researcher/*.dump\")):\n",
    "    with open(dump, mode=\"rb\") as f:\n",
    "        l = pickle.load(f)\n",
    "        researcher_list += l\n",
    "# リストをデータフレームに変換する\n",
    "columns = [\"eradcode\", \"fullname\"]\n",
    "df = pd.DataFrame(researcher_list, columns=columns)\n",
    "# 課題番号に重複がないことを確認して、インデックスに設定する\n",
    "assert not df[\"eradcode\"].duplicated().any(), \"eradcode is duplicated.\"\n",
    "df = df.set_index(\"eradcode\")\n",
    "df"
   ]
  },
  {
   "cell_type": "markdown",
   "metadata": {},
   "source": [
    "---"
   ]
  },
  {
   "cell_type": "code",
   "execution_count": null,
   "metadata": {},
   "outputs": [],
   "source": [
    "# grantaward_memberから研究者番号リストを取得する\n",
    "member = pd.read_sql_query(\"SELECT DISTINCT(eradcode) FROM grantaward_member\", engine)\n",
    "member = [m for m in member[\"eradcode\"].to_list() if m]\n",
    "len(member)"
   ]
  },
  {
   "cell_type": "code",
   "execution_count": null,
   "metadata": {},
   "outputs": [],
   "source": [
    "# 研究者JSONから研究者番号リストを取得する\n",
    "researcher = df.index.to_list()\n",
    "len(researcher)"
   ]
  },
  {
   "cell_type": "code",
   "execution_count": null,
   "metadata": {},
   "outputs": [],
   "source": [
    "# 積集合\n",
    "seki = list(set(researcher) & set(member))\n",
    "len(seki)"
   ]
  },
  {
   "cell_type": "code",
   "execution_count": null,
   "metadata": {},
   "outputs": [],
   "source": [
    "# 和集合\n",
    "wa = list(set(researcher + member))\n",
    "len(wa)"
   ]
  },
  {
   "cell_type": "code",
   "execution_count": null,
   "metadata": {},
   "outputs": [],
   "source": [
    "# researcherにあってmemberにない研究者番号\n",
    "r_m = list(set(researcher) - set(member))\n",
    "len(r_m)"
   ]
  },
  {
   "cell_type": "code",
   "execution_count": null,
   "metadata": {},
   "outputs": [],
   "source": [
    "# memberにあってresearcherにない研究者番号\n",
    "m_r = list(set(member) - set(researcher))\n",
    "len(m_r)"
   ]
  },
  {
   "cell_type": "markdown",
   "metadata": {},
   "source": [
    "---"
   ]
  },
  {
   "cell_type": "markdown",
   "metadata": {},
   "source": [
    "## 上記researcherで取得できなかった1522件のJSONファイルをダウンロードする"
   ]
  },
  {
   "cell_type": "code",
   "execution_count": null,
   "metadata": {},
   "outputs": [],
   "source": [
    "# JSONファイルをダウンロードする\n",
    "os.makedirs(\"json_additional\", exist_ok=True)\n",
    "for i in tqdm_notebook(m_r):\n",
    "    ROOT_URL = \"https://nrid.nii.ac.jp/opensearch/?appid=\" + appid\n",
    "    url = ROOT_URL + \"&format=json&qm=\" + i\n",
    "    r = requests.get(url)\n",
    "    j = r.text\n",
    "    filename = \"json_additional/\" + i + \".json\"\n",
    "    with open(filename, mode=\"w\", encoding=\"utf-8\") as f:\n",
    "        f.write(j)\n",
    "    time.sleep(5)"
   ]
  },
  {
   "cell_type": "code",
   "execution_count": null,
   "metadata": {},
   "outputs": [],
   "source": [
    "# dump_researcher_additionalフォルダを空にしておく\n",
    "target_dir = \"dump_researcher_additional\"\n",
    "if os.path.isdir(target_dir):\n",
    "    shutil.rmtree(target_dir)\n",
    "os.makedirs(target_dir)"
   ]
  },
  {
   "cell_type": "code",
   "execution_count": null,
   "metadata": {},
   "outputs": [],
   "source": [
    "# JSONファイルをリストに変換する\n",
    "for jsonfilepath in tqdm_notebook(glob(\"json_additional/*.json\")):\n",
    "    # JSONファイルを開く\n",
    "    with open(jsonfilepath, \"r\", encoding=\"utf-8\") as f:\n",
    "        jsondata = json.load(f)\n",
    "        # JSONファイル内の件数が1ならパースする\n",
    "        if jsondata[\"totalResults\"] == 1:\n",
    "            researchers = jsondata[\"researchers\"]\n",
    "            eradcode = researchers[0][\"id:person:erad\"][0]\n",
    "            try:\n",
    "                fullname = researchers[0][\"name\"][\"humanReadableValue\"]\n",
    "            except KeyError:\n",
    "                fullname = None\n",
    "            row = [eradcode, fullname]\n",
    "            dumpfilename = (\n",
    "                \"dump_researcher_additional/\"\n",
    "                + re.search(\"[0-9]{8}.json\", jsonfilepath).group()\n",
    "                + \".dump\"\n",
    "            )\n",
    "            with open(dumpfilename, \"wb\") as f:\n",
    "                pickle.dump(row, f)"
   ]
  },
  {
   "cell_type": "code",
   "execution_count": null,
   "metadata": {
    "scrolled": true
   },
   "outputs": [],
   "source": [
    "# リストを結合する\n",
    "researcher_list = []\n",
    "for dump in tqdm_notebook(glob(\"dump_researcher_additional/*.dump\")):\n",
    "    with open(dump, mode=\"rb\") as f:\n",
    "        l = pickle.load(f)\n",
    "        researcher_list.append(l)\n",
    "# リストをデータフレームに変換する\n",
    "columns = [\"eradcode\", \"fullname\"]\n",
    "additional = pd.DataFrame(researcher_list, columns=columns)\n",
    "# 課題番号に重複がないことを確認して、インデックスに設定する\n",
    "assert not additional[\"eradcode\"].duplicated().any(), \"eradcode is duplicated.\"\n",
    "additional = additional.set_index(\"eradcode\")\n",
    "additional"
   ]
  },
  {
   "cell_type": "code",
   "execution_count": null,
   "metadata": {
    "scrolled": true
   },
   "outputs": [],
   "source": [
    "# 2つのデータフレームを結合する\n",
    "df = pd.concat([df, additional])\n",
    "df"
   ]
  },
  {
   "cell_type": "code",
   "execution_count": null,
   "metadata": {
    "scrolled": true
   },
   "outputs": [],
   "source": [
    "# explodeメソッドでfullname列に入れ子になっている辞書を展開する\n",
    "fullname = df.explode(\"fullname\")[\"fullname\"].apply(pd.Series)\n",
    "fullname = fullname.reset_index()\n",
    "# 縦持ちのデータを横持ちに変換する\n",
    "fullname = fullname.groupby([\"eradcode\", \"lang\"]).apply(lambda d: d[\"text\"].reset_index(drop=True)).unstack()\n",
    "fullname = fullname.reset_index()\n",
    "# 列に名前を付ける\n",
    "fullname.columns=[\"eradcode\", \"en\", \"ja\", \"kana\"]\n",
    "fullname"
   ]
  },
  {
   "cell_type": "markdown",
   "metadata": {},
   "source": [
    "---"
   ]
  },
  {
   "cell_type": "markdown",
   "metadata": {},
   "source": [
    "1522件のうち、935件はJSONが追加で取得できた。残りの587件は、研究者番号のみ追加することにする（氏名はNoneで）"
   ]
  },
  {
   "cell_type": "code",
   "execution_count": null,
   "metadata": {
    "scrolled": true
   },
   "outputs": [],
   "source": [
    "member_remaining = list(set(m_r) - set(additional.index.to_list()))\n",
    "member_remaining = pd.DataFrame(member_remaining, columns=[\"eradcode\"])\n",
    "member_remaining[\"en\"] = None\n",
    "member_remaining[\"ja\"] = None\n",
    "member_remaining[\"kana\"] = None\n",
    "member_remaining"
   ]
  },
  {
   "cell_type": "code",
   "execution_count": null,
   "metadata": {
    "scrolled": true
   },
   "outputs": [],
   "source": [
    "researchers = pd.concat([fullname, member_remaining])\n",
    "researchers = researchers.set_index(\"eradcode\")\n",
    "researchers"
   ]
  },
  {
   "cell_type": "code",
   "execution_count": null,
   "metadata": {
    "scrolled": true
   },
   "outputs": [],
   "source": [
    "# データベースに保存する\n",
    "researchers.to_sql(\n",
    "    \"researchers\", engine, if_exists=\"replace\", dtype={\"eradcode\": String(8)}\n",
    ")"
   ]
  },
  {
   "cell_type": "code",
   "execution_count": null,
   "metadata": {},
   "outputs": [],
   "source": [
    "# 主キーと外部キー制約を設定する\n",
    "with engine.connect() as con:\n",
    "    con.execute(\"ALTER TABLE researchers ADD PRIMARY KEY(eradcode);\")\n",
    "    con.execute(\n",
    "        \"ALTER TABLE grantaward ADD CONSTRAINT fk_grantaward_eradcode FOREIGN KEY (eradcode) REFERENCES researchers (eradcode);\"\n",
    "    )\n",
    "    con.execute(\n",
    "        \"ALTER TABLE grantaward_member ADD CONSTRAINT fk_grantaward_member_eradcode FOREIGN KEY (eradcode) REFERENCES researchers (eradcode);\"\n",
    "    )"
   ]
  },
  {
   "cell_type": "markdown",
   "metadata": {},
   "source": [
    "おしまい"
   ]
  }
 ],
 "metadata": {
  "kernelspec": {
   "display_name": "Python 3",
   "language": "python",
   "name": "python3"
  },
  "language_info": {
   "codemirror_mode": {
    "name": "ipython",
    "version": 3
   },
   "file_extension": ".py",
   "mimetype": "text/x-python",
   "name": "python",
   "nbconvert_exporter": "python",
   "pygments_lexer": "ipython3",
   "version": "3.8.3"
  }
 },
 "nbformat": 4,
 "nbformat_minor": 4
}
